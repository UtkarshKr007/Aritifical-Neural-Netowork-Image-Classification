{
  "nbformat": 4,
  "nbformat_minor": 0,
  "metadata": {
    "colab": {
      "name": "Utkarsh_ANN_MNIST.ipynb",
      "version": "0.3.2",
      "provenance": [],
      "collapsed_sections": [],
      "include_colab_link": true
    },
    "kernelspec": {
      "name": "python3",
      "display_name": "Python 3"
    }
  },
  "cells": [
    {
      "cell_type": "markdown",
      "metadata": {
        "id": "view-in-github",
        "colab_type": "text"
      },
      "source": [
        "<a href=\"https://colab.research.google.com/github/UtkarshKr007/Aritifical-Neural-Netowork-Image-Classification/blob/master/Utkarsh_MNIST_Model.ipynb\" target=\"_parent\"><img src=\"https://colab.research.google.com/assets/colab-badge.svg\" alt=\"Open In Colab\"/></a>"
      ]
    },
    {
      "cell_type": "markdown",
      "metadata": {
        "id": "JnykOxwICRAR",
        "colab_type": "text"
      },
      "source": [
        "# Artificial Neural Network Image Classification"
      ]
    },
    {
      "cell_type": "code",
      "metadata": {
        "id": "HZf_7LHKB1bV",
        "colab_type": "code",
        "colab": {}
      },
      "source": [
        "# Installing tensorflow 2.0.\n",
        "# Pip commands can be doen in google collab by adding a ! before the command\n",
        "!pip install tensorflow==2.0.0-alpha0\n",
        "\n",
        "from __future__ import absolute_import, division, print_function, unicode_literals\n",
        "\n",
        "# TensorFlow and tf.keras\n",
        "import tensorflow as tf\n",
        "from tensorflow import keras\n",
        "# Helper libraries\n",
        "import numpy as np\n",
        "import matplotlib.pyplot as plt\n",
        "\n",
        "# Check the version of an object imported by printing [Object].__version__\n",
        "print(tf.__version__) "
      ],
      "execution_count": 0,
      "outputs": []
    },
    {
      "cell_type": "code",
      "metadata": {
        "id": "cxq6MDEkGFQW",
        "colab_type": "code",
        "colab": {}
      },
      "source": [
        "# Store the datasets from keras into variable fashion_mnist\n",
        "fashion_mnist = keras.datasets.fashion_mnist\n",
        "# train_images and train_labels arrays are the data the model will use to learn\n",
        "# Then we will test our model against the test_images and test_labels\n",
        "(train_images, train_labels), (test_images, test_labels) = fashion_mnist.load_data()\n",
        "\n",
        "class_names = ['T-shirt/top', 'Trouser', 'Pullover', 'Dress', 'Coat',\n",
        "               'Sandal', 'Shirt', 'Sneaker', 'Bag', 'Ankle boot']"
      ],
      "execution_count": 0,
      "outputs": []
    }
  ]
}