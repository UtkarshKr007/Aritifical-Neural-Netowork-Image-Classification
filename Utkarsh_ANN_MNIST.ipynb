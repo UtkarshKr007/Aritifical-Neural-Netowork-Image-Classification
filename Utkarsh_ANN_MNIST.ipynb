{
  "nbformat": 4,
  "nbformat_minor": 0,
  "metadata": {
    "colab": {
      "name": "Utkarsh_ANN_MNIST.ipynb",
      "version": "0.3.2",
      "provenance": [],
      "collapsed_sections": [
        "b4LG7czq5Kt-"
      ],
      "include_colab_link": true
    },
    "kernelspec": {
      "name": "python3",
      "display_name": "Python 3"
    },
    "accelerator": "GPU"
  },
  "cells": [
    {
      "cell_type": "markdown",
      "metadata": {
        "id": "view-in-github",
        "colab_type": "text"
      },
      "source": [
        "<a href=\"https://colab.research.google.com/github/UtkarshKr007/Aritifical-Neural-Netowork-Image-Classification/blob/master/Utkarsh_ANN_MNIST.ipynb\" target=\"_parent\"><img src=\"https://colab.research.google.com/assets/colab-badge.svg\" alt=\"Open In Colab\"/></a>"
      ]
    },
    {
      "cell_type": "markdown",
      "metadata": {
        "id": "JnykOxwICRAR",
        "colab_type": "text"
      },
      "source": [
        "# Artificial Neural Network Image Classification"
      ]
    },
    {
      "cell_type": "markdown",
      "metadata": {
        "id": "PplkgVlXWv9D",
        "colab_type": "text"
      },
      "source": [
        "#### This is the \"Hello World\" equivalent of Machine Learning. I have followed this [tutorial](https://www.tensorflow.org/alpha/tutorials/keras/basic_classification) and added comments that helped me learn the material better. \n",
        "\n",
        "*Notebook only displays the last line of a code block, so it's a good idea to divide your code in segments.*"
      ]
    },
    {
      "cell_type": "markdown",
      "metadata": {
        "id": "b4LG7czq5Kt-",
        "colab_type": "text"
      },
      "source": [
        "###  Importing Dataset and Python Tools"
      ]
    },
    {
      "cell_type": "code",
      "metadata": {
        "id": "HZf_7LHKB1bV",
        "colab_type": "code",
        "colab": {}
      },
      "source": [
        "# Installing tensorflow 2.0.\n",
        "# Pip commands can be doen in google collab by adding a ! before the command\n",
        "!pip install tensorflow==2.0.0-alpha0\n",
        "\n",
        "from __future__ import absolute_import, division, print_function, unicode_literals\n",
        "\n",
        "# TensorFlow and tf.keras\n",
        "import tensorflow as tf\n",
        "from tensorflow import keras\n",
        "# Helper libraries\n",
        "import numpy as np\n",
        "import matplotlib.pyplot as plt\n",
        "\n",
        "# Check the version of an object imported by printing [Object].__version__\n",
        "print(tf.__version__) "
      ],
      "execution_count": 0,
      "outputs": []
    },
    {
      "cell_type": "code",
      "metadata": {
        "id": "cxq6MDEkGFQW",
        "colab_type": "code",
        "colab": {}
      },
      "source": [
        "# Store the datasets from keras into variable fashion_mnist\n",
        "fashion_mnist = keras.datasets.fashion_mnist\n",
        "# train_images and train_labels arrays are the data the model will use to learn\n",
        "# Then we will test our model against the test_images and test_labels\n",
        "(train_images, train_labels), (test_images, test_labels) = fashion_mnist.load_data()\n",
        "\n",
        "# The dataset does not include class names, so we store them in a variable\n",
        "# for later usage\n",
        "class_names = ['T-shirt/top', 'Trouser', 'Pullover', 'Dress', 'Coat',\n",
        "               'Sandal', 'Shirt', 'Sneaker', 'Bag', 'Ankle boot']"
      ],
      "execution_count": 0,
      "outputs": []
    },
    {
      "cell_type": "markdown",
      "metadata": {
        "id": "wuReAiDVrd8B",
        "colab_type": "text"
      },
      "source": [
        " For reference, These are the classes referenced in the databased by their respective labels\n",
        " \n",
        " | Label |    Class    |\n",
        "|:-----:|:-----------:|\n",
        "|   0   | T-shirt/top |\n",
        "|   1   |   Trouser   |\n",
        "|   2   |   Pullover  |\n",
        "|   3   |    Dress    |\n",
        "|   4   |     Coat    |\n",
        "|   5   |    Sandal   |\n",
        "|   6   |    Shirt    |\n",
        "|   7   |   Sneaker   |\n",
        "|   8   |     Bag     |\n",
        "|   9   |  Ankle boot |\n",
        "\n",
        "\n"
      ]
    },
    {
      "cell_type": "markdown",
      "metadata": {
        "id": "TNGfcmDDnj-I",
        "colab_type": "text"
      },
      "source": [
        "### Exploring The Data"
      ]
    },
    {
      "cell_type": "code",
      "metadata": {
        "id": "apASHvIgnitQ",
        "colab_type": "code",
        "colab": {}
      },
      "source": [
        "# Shows there are 60,000, 28 x 28 pixels, images in the training set\n",
        "train_images.shape "
      ],
      "execution_count": 0,
      "outputs": []
    },
    {
      "cell_type": "code",
      "metadata": {
        "id": "xMg5u9RJqAqG",
        "colab_type": "code",
        "colab": {}
      },
      "source": [
        "len(train_labels)  # 60,000 labels in the training set"
      ],
      "execution_count": 0,
      "outputs": []
    },
    {
      "cell_type": "code",
      "metadata": {
        "id": "ed71Wd_pqAyi",
        "colab_type": "code",
        "colab": {}
      },
      "source": [
        "# Each label is an integer between 0 and 9\n",
        "train_labels    # data type is uint8 meaning an Unsigned integer(0 to 255)"
      ],
      "execution_count": 0,
      "outputs": []
    },
    {
      "cell_type": "code",
      "metadata": {
        "id": "NK4-jXrMqyFr",
        "colab_type": "code",
        "colab": {}
      },
      "source": [
        "# Shows there are 10,000, 28 x 28 pixels, images in the test set#\n",
        "test_images.shape"
      ],
      "execution_count": 0,
      "outputs": []
    },
    {
      "cell_type": "code",
      "metadata": {
        "id": "7T-GzKbtqyMd",
        "colab_type": "code",
        "colab": {}
      },
      "source": [
        "len(test_labels) # 10,000 labels in the test set"
      ],
      "execution_count": 0,
      "outputs": []
    },
    {
      "cell_type": "markdown",
      "metadata": {
        "id": "FKjDSe-ZMGHM",
        "colab_type": "text"
      },
      "source": [
        "The matplotlib.pyplot functions used below are listed and defined [here](https://matplotlib.org/3.1.0/api/_as_gen/matplotlib.pyplot.html) .\n",
        "This [Stack Overflow](https://stackoverflow.com/questions/9662995/matplotlib-change-title-and-colorbar-text-and-tick-colors) helped me change colorbar ticks"
      ]
    },
    {
      "cell_type": "code",
      "metadata": {
        "id": "cmeJJq0P5i1M",
        "colab_type": "code",
        "colab": {}
      },
      "source": [
        "# plt is the name we assigned to matplotlib.pyplot above.\n",
        "\n",
        "# .figure CREATES a figure while .imshow DISPLAYS the image on the axes.\n",
        "plt.figure()\n",
        "plt.imshow(train_images[0])# display the image at 0th Index of train_images\n",
        "cbar = plt.colorbar()# Adds the colorbar showing pixel values(0-255)\n",
        "cbar_ticks = plt.getp(cbar.ax.axes, 'yticklabels')\n",
        "plt.setp(cbar_ticks, color='white')\n",
        "plt.grid(False) # grids aren't shown by default, but the option does exist.\n",
        "plt.inferno()  # Changes colormap to inferno\n",
        "plt.tick_params(axis='both', colors='white')\n",
        "plt.show() # .show can display multiple images(while imshow displays one)\n",
        "# Here it only displays one, because that's all we created."
      ],
      "execution_count": 0,
      "outputs": []
    },
    {
      "cell_type": "markdown",
      "metadata": {
        "id": "dOkBbj8zWL5q",
        "colab_type": "text"
      },
      "source": [
        "### Preprocessing the data"
      ]
    },
    {
      "cell_type": "markdown",
      "metadata": {
        "id": "x58YoHHQWjLB",
        "colab_type": "text"
      },
      "source": [
        "Dividing by 255 scales the pixel values(0-255) to a range of 0 (0/255) to 1 (255/255).\n",
        "**Training and Testing Sets must be preprocessed in the same way**"
      ]
    },
    {
      "cell_type": "code",
      "metadata": {
        "id": "TGzT_zrdWhtk",
        "colab_type": "code",
        "colab": {}
      },
      "source": [
        "train_images = train_images / 255.0\n",
        "test_images = test_images / 255.0"
      ],
      "execution_count": 0,
      "outputs": []
    },
    {
      "cell_type": "markdown",
      "metadata": {
        "id": "ZSdHN8MlXZ0T",
        "colab_type": "text"
      },
      "source": [
        "Next step is verifying the data is in correct format by displaying the first 25 images and their respective class names from the training set"
      ]
    },
    {
      "cell_type": "code",
      "metadata": {
        "id": "XxfNJkqFXZOC",
        "colab_type": "code",
        "colab": {}
      },
      "source": [
        "plt.figure(figsize=(10,10)) # figsize takes width and height in inches\n",
        "for i in range(25):\n",
        "  # subplot takes number of rows, number of columns and index starting at 1\n",
        "  plt.subplot(5,5,i+1)\n",
        "  plt.xticks([])\n",
        "  plt.yticks([])\n",
        "  plt.grid(False)\n",
        "  # 'binary' can be changed for different colors\n",
        "  plt.imshow(train_images[i], cmap=plt.cm.binary) \n",
        "  plt.xlabel(class_names[train_labels[i]], color = 'white')\n",
        "plt.show()"
      ],
      "execution_count": 0,
      "outputs": []
    },
    {
      "cell_type": "markdown",
      "metadata": {
        "id": "nAiQdAlqgpdL",
        "colab_type": "text"
      },
      "source": [
        "###  Building the Model\n",
        "The two main parts of building a model are:\n",
        "\n",
        "\n",
        "1.   Configuring the layers of the model\n",
        "2. Compiling the model\n",
        "\n"
      ]
    },
    {
      "cell_type": "code",
      "metadata": {
        "id": "ETa2OTMhgzFB",
        "colab_type": "code",
        "colab": {}
      },
      "source": [
        "model = keras.Sequential([\n",
        "    keras.layers.Flatten(input_shape=(28,28)),\n",
        "    keras.layers.Dense(128, activation ='relu'),\n",
        "    keras.layers.Dense(10, activation ='softmax')\n",
        "])"
      ],
      "execution_count": 0,
      "outputs": []
    },
    {
      "cell_type": "markdown",
      "metadata": {
        "id": "xKqhgLPejENv",
        "colab_type": "text"
      },
      "source": [
        "***Flatten*** transformas the format of the images from a 2-D array(28x28 pixels) to a 1-D array of 784(28*28) pixels. Basically, it unstacks rows of pixels in the image and lines them up in one row. \n",
        "\n",
        "The network then consists of two ***dense*** layers. They are densely,or fully, connected neural layers. The first Dense layer has 128 nodes(or neurons). \n",
        "\n",
        "The second layer is a 10-node softmax layer where each node contains a score that indicates the probability that the current image belongs to one of the 10 classes(T-shirt/top,trouser,pullover,etc). These 10 probability scores are returned as an array whose total value is 1."
      ]
    },
    {
      "cell_type": "code",
      "metadata": {
        "id": "Oe0n43i_l4ZR",
        "colab_type": "code",
        "colab": {}
      },
      "source": [
        "model.compile(optimizer='adam',\n",
        "              loss='sparse_categorical_crossentropy',\n",
        "              metrics=['accuracy'])"
      ],
      "execution_count": 0,
      "outputs": []
    },
    {
      "cell_type": "markdown",
      "metadata": {
        "id": "s_OIjBhUmD3p",
        "colab_type": "text"
      },
      "source": [
        "During the compile step, we add a few more settings.\n",
        "These settings are defined below and taken from  [here](https://www.tensorflow.org/alpha/tutorials/keras/basic_classification#train_the_model)\n",
        "\n",
        "**Loss function** —This measures how accurate the model is during training. We want to minimize this function to \"steer\" the model in the right direction.\n",
        "\n",
        "**Optimizer** —This is how the model is updated based on the data it sees and its loss function.\n",
        "\n",
        "**Metrics** —Used to monitor the training and testing steps. The following example uses accuracy, the fraction of the images that are correctly classified."
      ]
    },
    {
      "cell_type": "markdown",
      "metadata": {
        "id": "0D1xVqMKm6DR",
        "colab_type": "text"
      },
      "source": [
        "### Training the model"
      ]
    },
    {
      "cell_type": "markdown",
      "metadata": {
        "id": "kS1KAxaanK5x",
        "colab_type": "text"
      },
      "source": [
        "\n",
        "\n",
        "1.   Feed training data to model\n",
        "2.   The model learns to associate images and labels\n",
        "3.   Ask model to make predictions about the test data and verify it's predictions\n",
        "\n"
      ]
    },
    {
      "cell_type": "code",
      "metadata": {
        "id": "x0cLGfQfnDQS",
        "colab_type": "code",
        "colab": {}
      },
      "source": [
        "# model.fit \"fits\" the model to the training data\n",
        "# epoch divides the training data into batches and the model is updated\n",
        "#  after every batch increasing it's accuracy\n",
        "model.fit(train_images,train_labels, epochs=10)"
      ],
      "execution_count": 0,
      "outputs": []
    },
    {
      "cell_type": "code",
      "metadata": {
        "id": "_OmP45bjpLM7",
        "colab_type": "code",
        "colab": {}
      },
      "source": [
        "# Now we evalaute the model's accuracy against the test dataset\n",
        "test_loss, test_acc = model.evaluate(test_images,test_labels)\n",
        "print('\\nTest accuracy:',test_acc)"
      ],
      "execution_count": 0,
      "outputs": []
    },
    {
      "cell_type": "markdown",
      "metadata": {
        "id": "os0is7ajrDsP",
        "colab_type": "text"
      },
      "source": [
        "For me the model reached an accuracy of  83.90% on training data while an accuracy of 83.19% against test data.  When a ML model performs worse on a new, unseen input than the training data, it's called *overfitting*"
      ]
    },
    {
      "cell_type": "markdown",
      "metadata": {
        "id": "TTl9OR7rrlNI",
        "colab_type": "text"
      },
      "source": [
        "### Make predictions"
      ]
    }
  ]
}