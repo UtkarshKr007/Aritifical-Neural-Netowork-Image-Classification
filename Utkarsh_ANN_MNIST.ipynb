{
  "nbformat": 4,
  "nbformat_minor": 0,
  "metadata": {
    "colab": {
      "name": "Utkarsh_ANN_MNIST.ipynb",
      "version": "0.3.2",
      "provenance": [],
      "collapsed_sections": [],
      "include_colab_link": true
    },
    "kernelspec": {
      "name": "python3",
      "display_name": "Python 3"
    }
  },
  "cells": [
    {
      "cell_type": "markdown",
      "metadata": {
        "id": "view-in-github",
        "colab_type": "text"
      },
      "source": [
        "<a href=\"https://colab.research.google.com/github/UtkarshKr007/Aritifical-Neural-Netowork-Image-Classification/blob/master/Utkarsh_ANN_MNIST.ipynb\" target=\"_parent\"><img src=\"https://colab.research.google.com/assets/colab-badge.svg\" alt=\"Open In Colab\"/></a>"
      ]
    },
    {
      "cell_type": "markdown",
      "metadata": {
        "id": "JnykOxwICRAR",
        "colab_type": "text"
      },
      "source": [
        "# Artificial Neural Network Image Classification"
      ]
    },
    {
      "cell_type": "code",
      "metadata": {
        "id": "HZf_7LHKB1bV",
        "colab_type": "code",
        "colab": {}
      },
      "source": [
        "from __future__ import absolute_import, division, print_function, unicode_literals\n",
        "\n",
        "# Installing tensorflow 2.0.\n",
        "# Pip commands can be doen in google collab by adding a ! before the command\n",
        "!pip install tensorflow==2.0.0-alpha0\n",
        "\n",
        "import tensorflow as tf"
      ],
      "execution_count": 0,
      "outputs": []
    }
  ]
}